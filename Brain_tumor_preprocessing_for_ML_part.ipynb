{
  "nbformat": 4,
  "nbformat_minor": 0,
  "metadata": {
    "colab": {
      "name": "Brain_tumor_preprocessing_for_ML_part",
      "provenance": [],
      "toc_visible": true,
      "authorship_tag": "ABX9TyOBN564hK9bV3lbF++33xE1",
      "include_colab_link": true
    },
    "kernelspec": {
      "name": "python3",
      "display_name": "Python 3"
    },
    "language_info": {
      "name": "python"
    }
  },
  "cells": [
    {
      "cell_type": "markdown",
      "metadata": {
        "id": "view-in-github",
        "colab_type": "text"
      },
      "source": [
        "<a href=\"https://colab.research.google.com/github/imtiaz114/Brain_tumor_detection_from_2D_MRI_images/blob/main/Brain_tumor_preprocessing_for_ML_part.ipynb\" target=\"_parent\"><img src=\"https://colab.research.google.com/assets/colab-badge.svg\" alt=\"Open In Colab\"/></a>"
      ]
    },
    {
      "cell_type": "markdown",
      "metadata": {
        "id": "UNM_4Qd8ieHS"
      },
      "source": [
        "# Image preprocessing"
      ]
    },
    {
      "cell_type": "markdown",
      "metadata": {
        "id": "-ikSW1P5m1ts"
      },
      "source": [
        "Proposed Methodology:\n",
        "\n",
        "1. Skull stripping\n",
        "        Thresholding\n",
        "        Connected Component Analysis\n",
        "2. Filtering and Enhancement\n",
        "3. Segmentation using Kmeans\n",
        "4. Morphological Operations\n",
        "5. Tumor Contouring"
      ]
    },
    {
      "cell_type": "markdown",
      "metadata": {
        "id": "KMaqZJosqzak"
      },
      "source": [
        "## Imports"
      ]
    },
    {
      "cell_type": "code",
      "metadata": {
        "colab": {
          "base_uri": "https://localhost:8080/"
        },
        "id": "iUQo8KNlq277",
        "outputId": "147cb189-fbc6-4e01-d527-70f509fd3c08"
      },
      "source": [
        "from google.colab import drive\n",
        "drive.mount('/content/drive')"
      ],
      "execution_count": null,
      "outputs": [
        {
          "output_type": "stream",
          "text": [
            "Mounted at /content/drive\n"
          ],
          "name": "stdout"
        }
      ]
    },
    {
      "cell_type": "code",
      "metadata": {
        "id": "uA9bsBRtq1BD"
      },
      "source": [
        "import numpy as np\n",
        "import matplotlib.pyplot as plt\n",
        "import cv2\n",
        "import seaborn as sns\n",
        "from google.colab.patches import cv2_imshow\n",
        "%matplotlib inline"
      ],
      "execution_count": null,
      "outputs": []
    },
    {
      "cell_type": "markdown",
      "metadata": {
        "id": "6zQTA6HonpkR"
      },
      "source": [
        "## 1. Skull stripping"
      ]
    },
    {
      "cell_type": "markdown",
      "metadata": {
        "id": "VDUsH3tprRSi"
      },
      "source": [
        "### Thresholding"
      ]
    },
    {
      "cell_type": "code",
      "metadata": {
        "id": "AQKnX5ZfMW9U"
      },
      "source": [
        "image_name = 'Y100'\n",
        "\n",
        "image_directory_yes = '/content/drive/MyDrive/datasets/brain_tumor/brain_tumor_dataset_1/brain_tumor_dataset/yes_m' + '/'\n",
        "\n",
        "#this img_file is the variable, changing it will set image name everywhere needed\n",
        "img_file = image_directory_yes + image_name + '.jpg'"
      ],
      "execution_count": null,
      "outputs": []
    },
    {
      "cell_type": "code",
      "metadata": {
        "id": "_dhBCy2JrM75"
      },
      "source": [
        "# loading image\n",
        "img = cv2.imread(img_file)\n",
        "dim = (256,256)\n",
        "image = cv2.resize(img, dim, interpolation = cv2.INTER_AREA)\n",
        "cv2_imshow(image)"
      ],
      "execution_count": null,
      "outputs": []
    },
    {
      "cell_type": "code",
      "metadata": {
        "id": "KohBtFqVrOjH"
      },
      "source": [
        "#normalizing image\n",
        "image = cv2.normalize(image, None, alpha = 0, beta = 255, norm_type = cv2.NORM_MINMAX, dtype = cv2.CV_32F)\n",
        "image = image.astype(np.uint8)"
      ],
      "execution_count": null,
      "outputs": []
    },
    {
      "cell_type": "code",
      "metadata": {
        "id": "6Y6G5qOYrLoS"
      },
      "source": [
        "#thresholding\n",
        "gray = cv2.cvtColor(image, cv2.COLOR_BGR2GRAY)\n",
        "#thresh = cv2.threshold(gray, 0, 255,\tcv2.THRESH_BINARY | cv2.THRESH_OTSU)[1]\n",
        "thresh = cv2.adaptiveThreshold(gray, 255,cv2.ADAPTIVE_THRESH_MEAN_C, cv2.THRESH_BINARY,21,0)"
      ],
      "execution_count": null,
      "outputs": []
    },
    {
      "cell_type": "markdown",
      "metadata": {
        "id": "2NS3JStMrWi4"
      },
      "source": [
        "### Connected component analysis"
      ]
    },
    {
      "cell_type": "code",
      "metadata": {
        "id": "YHu_KALSrfI4"
      },
      "source": [
        "#connected component analysis\n",
        "connectivity = 8\n",
        "output = cv2.connectedComponentsWithStats(\n",
        "\tthresh, connectivity, cv2.CV_32S)\n",
        "(numLabels, labels, stats, centroids) = output\n",
        "mask = np.zeros(gray.shape, dtype=\"uint8\")\n",
        "\n",
        "#looping over unique labels\n",
        "x = np.zeros(numLabels)\n",
        "y = np.zeros(numLabels)\n",
        "h = np.zeros(numLabels)\n",
        "w = np.zeros(numLabels)\n",
        "area = np.zeros(numLabels)\n",
        "\n",
        "for i in range(1, numLabels): #id 0  background\n",
        "\t# extract the connected component statistics for the current\n",
        "\t# label\n",
        "\tx[i] = stats[i, cv2.CC_STAT_LEFT]\n",
        "\ty[i] = stats[i, cv2.CC_STAT_TOP]\n",
        "\tw[i] = stats[i, cv2.CC_STAT_WIDTH]\n",
        "\th[i] = stats[i, cv2.CC_STAT_HEIGHT]\n",
        "\tarea[i] = stats[i, cv2.CC_STAT_AREA]"
      ],
      "execution_count": null,
      "outputs": []
    },
    {
      "cell_type": "code",
      "metadata": {
        "id": "Ipt_4wxZrZ0N"
      },
      "source": [
        "#ensure the width, height and area are not too small not too big\n",
        "components =np.zeros(((numLabels,image.shape[0],image.shape[1])),dtype = np.uint8)\n",
        "index = []\n",
        "for i in range(1,numLabels):\n",
        "  keepWidth = w[i]>0\n",
        "  keepHeight = h[i]>0\n",
        "  keepArea = area[i]>0\n",
        "  if all((keepWidth,keepHeight,keepArea)):\n",
        "    #construct a mask for the connected components and then take the bitwise OR\n",
        "    # with the mask\n",
        "    #print(\"[INFO] keeping connected components '{}'\".format(i))\n",
        "    componentMask = (labels == i).astype('uint8')*255\n",
        "    mask = cv2.bitwise_or(mask,componentMask)\n",
        "    components[i,:,:] = mask\n",
        "    index.append(i)"
      ],
      "execution_count": null,
      "outputs": []
    },
    {
      "cell_type": "code",
      "metadata": {
        "id": "hKlNzvSXrnY5"
      },
      "source": [
        "#choosing ectracted skull from here\n",
        "for i in range(len(index)):\n",
        "  plt.figure(i)\n",
        "  print(index[i])\n",
        "  cv2_imshow(components[index[i],:,:])\n",
        "  cv2.waitKey(0)"
      ],
      "execution_count": null,
      "outputs": []
    },
    {
      "cell_type": "code",
      "metadata": {
        "id": "FWDz67BgruPC"
      },
      "source": [
        "#extracting the brain\n",
        "skull = 10\n",
        "cv2_imshow(components[skull,:,:])\n",
        "brain = thresh - components[skull,:,:]\n",
        "cv2_imshow(brain)"
      ],
      "execution_count": null,
      "outputs": []
    },
    {
      "cell_type": "markdown",
      "metadata": {
        "id": "7tmsUjzEr6-Y"
      },
      "source": [
        "## Filtering and enhancement"
      ]
    },
    {
      "cell_type": "code",
      "metadata": {
        "id": "a8mhriGcr9la"
      },
      "source": [
        "#gaussian filter is used to smoothen the image and remove noise\n",
        "image = cv2.GaussianBlur(brain, (3,3), 0)\n",
        "cv2_imshow(image)"
      ],
      "execution_count": null,
      "outputs": []
    },
    {
      "cell_type": "markdown",
      "metadata": {
        "id": "FK1UO4CRsHUz"
      },
      "source": [
        "## Segmentation using Kmeans clustering algorithm"
      ]
    },
    {
      "cell_type": "code",
      "metadata": {
        "id": "ImFAU9BWr4Gy"
      },
      "source": [
        "# k means clustering\n",
        "image = cv2.cvtColor(image,cv2.COLOR_BGR2RGB)\n",
        "pixel_values = image.reshape((-1,3))\n",
        "pixel_values = np.float32(pixel_values)\n",
        "criteria = (cv2.TERM_CRITERIA_EPS + cv2.TERM_CRITERIA_MAX_ITER,100,0.2)\n",
        "\n",
        "k = 16 \n",
        "_,labels,(centers) = cv2.kmeans(pixel_values,\n",
        "                                k,\n",
        "                                None,\n",
        "                                criteria,\n",
        "                                10,\n",
        "                                cv2.KMEANS_RANDOM_CENTERS)\n",
        "\n",
        "centers = np.uint8(centers)\n",
        "labels = labels.flatten()\n",
        "\n",
        "segmented_image = centers[labels.flatten()]\n",
        "segmented_image = segmented_image.reshape(image.shape)"
      ],
      "execution_count": null,
      "outputs": []
    },
    {
      "cell_type": "code",
      "metadata": {
        "id": "988fMV3fsRRI"
      },
      "source": [
        "#choosing the cluster with the tumor\n",
        "for i in range(k):\n",
        "  masked_image = np.copy(image)\n",
        "  masked_image = masked_image.reshape((-1,3))\n",
        "  extracted = np.copy(masked_image)\n",
        "  cluster = i\n",
        "  masked_image[labels == cluster] = [0,0,0]\n",
        "  extracted[labels != cluster] = [0,0,0]\n",
        "  masked_image = masked_image.reshape(image.shape)\n",
        "  extracted = extracted.reshape(image.shape)\n",
        "\n",
        "  print(i)\n",
        "  plt.figure(i)\n",
        "  plt.imshow(extracted)\n",
        "  plt.show()"
      ],
      "execution_count": null,
      "outputs": []
    },
    {
      "cell_type": "code",
      "metadata": {
        "colab": {
          "base_uri": "https://localhost:8080/",
          "height": 269
        },
        "id": "xXDDuNTBsY0L",
        "outputId": "b77d60b2-b857-4a51-87b8-616dae54fd9e"
      },
      "source": [
        "cluster = 10\n",
        "\n",
        "masked_image = np.copy(image)\n",
        "masked_image = masked_image.reshape((-1,3))\n",
        "extracted = np.copy(masked_image)\n",
        "masked_image[labels == cluster] = [0,0,0]\n",
        "extracted[labels != cluster] = [0,0,0]\n",
        "masked_image = masked_image.reshape(image.shape)\n",
        "extracted = extracted.reshape(image.shape)\n",
        "image = extracted\n",
        "# show the image\n",
        "plt.figure\n",
        "plt.imshow(image)\n",
        "plt.show()"
      ],
      "execution_count": null,
      "outputs": [
        {
          "output_type": "display_data",
          "data": {
            "image/png": "[encoded data removed]",
            "text/plain": [
              "<Figure size 432x288 with 1 Axes>"
            ]
          },
          "metadata": {
            "tags": [],
            "needs_background": "light"
          }
        }
      ]
    },
    {
      "cell_type": "markdown",
      "metadata": {
        "id": "zX4icEAasfcr"
      },
      "source": [
        "## Morphological operation"
      ]
    },
    {
      "cell_type": "code",
      "metadata": {
        "id": "TY-Y4EN0sqnS"
      },
      "source": [
        "#kernel = np.ones((3,3), np.uint8)\n",
        "eroded = cv2.erode(image, None, iterations=1) \n",
        "dilated = cv2.dilate(eroded, None, iterations=1) \n",
        "cv2_imshow(eroded)\n",
        "cv2_imshow(dilated)"
      ],
      "execution_count": null,
      "outputs": []
    },
    {
      "cell_type": "markdown",
      "metadata": {
        "id": "A2uZEfK5tiJw"
      },
      "source": [
        "## Tumor contouring"
      ]
    },
    {
      "cell_type": "code",
      "metadata": {
        "id": "TxGdZvozseqx"
      },
      "source": [
        "#connected component analysis\n",
        "gray = cv2.cvtColor(dilated, cv2.COLOR_BGR2GRAY)\n",
        "\n",
        "thresh = cv2.threshold(gray, 0, 255,\tcv2.THRESH_BINARY | cv2.THRESH_OTSU)[1]\n",
        "#thresh = cv2.adaptiveThreshold(gray, 255,cv2.ADAPTIVE_THRESH_MEAN_C, cv2.THRESH_BINARY, 15,0)\n",
        "connectivity = 8 \n",
        "output = cv2.connectedComponentsWithStats(\n",
        "\tthresh, connectivity, cv2.CV_32S)\n",
        "(numLabels, labels, stats, centroids) = output"
      ],
      "execution_count": null,
      "outputs": []
    },
    {
      "cell_type": "code",
      "metadata": {
        "id": "mFJNrPHYs4HM"
      },
      "source": [
        "mask = np.zeros(gray.shape, dtype=\"uint8\")\n",
        "\n",
        "#looping over unique labels\n",
        "x = np.zeros(numLabels)\n",
        "y = np.zeros(numLabels)\n",
        "h = np.zeros(numLabels)\n",
        "w = np.zeros(numLabels)\n",
        "area = np.zeros(numLabels)\n",
        "\n",
        "for i in range(1, numLabels): #id 0  background\n",
        "\t# extract the connected component statistics for the current\n",
        "\t# label\n",
        "\tx[i] = stats[i, cv2.CC_STAT_LEFT]\n",
        "\ty[i] = stats[i, cv2.CC_STAT_TOP]\n",
        "\tw[i] = stats[i, cv2.CC_STAT_WIDTH]\n",
        "\th[i] = stats[i, cv2.CC_STAT_HEIGHT]\n",
        "\tarea[i] = stats[i, cv2.CC_STAT_AREA]"
      ],
      "execution_count": null,
      "outputs": []
    },
    {
      "cell_type": "code",
      "metadata": {
        "id": "4I685tY5s5yA"
      },
      "source": [
        "components =np.zeros(((numLabels,image.shape[0],image.shape[1])),dtype = np.uint8)\n",
        "index = []\n",
        "for i in range(1,numLabels):\n",
        "  keepWidth = w[i]>0\n",
        "  keepHeight = h[i]>0\n",
        "  keepArea = area[i]>0\n",
        "  if all((keepWidth,keepHeight,keepArea)):\n",
        "    componentMask = (labels == i).astype('uint8')*255\n",
        "    mask = cv2.bitwise_or(mask,componentMask)\n",
        "    components[i,:,:] = mask\n",
        "    index.append(i)"
      ],
      "execution_count": null,
      "outputs": []
    },
    {
      "cell_type": "code",
      "metadata": {
        "id": "TCMSE7HttEBq"
      },
      "source": [
        "#extracting tumor by subtractiong between two connected component analyzed images\n",
        "for i in range(len(index)):\n",
        "  plt.figure(i)\n",
        "  print(index[i])\n",
        "  cv2_imshow(components[index[i],:,:])\n",
        "  cv2.waitKey(0)"
      ],
      "execution_count": null,
      "outputs": []
    },
    {
      "cell_type": "code",
      "metadata": {
        "id": "GCRgyoTstWI5"
      },
      "source": [
        "first_tumor = 16\n",
        "tumor = components[first_tumor,:,:] - components[first_tumor-1,:,:]\n",
        "cv2_imshow(tumor)"
      ],
      "execution_count": null,
      "outputs": []
    },
    {
      "cell_type": "code",
      "metadata": {
        "colab": {
          "base_uri": "https://localhost:8080/",
          "height": 273
        },
        "id": "OujfvZWRtme4",
        "outputId": "c15a5cd8-a385-4e58-df1f-de7f27e1d1d8"
      },
      "source": [
        "#loading image again\n",
        "img = cv2.imread(img_file)\n",
        "dim = (256,256)\n",
        "image = cv2.resize(img, dim, interpolation = cv2.INTER_AREA)\n",
        "\n",
        "\n",
        "# find contours in thresholded image, then grab the largest one\n",
        "import imutils\n",
        "cnts = cv2.findContours(tumor.copy(), cv2.RETR_EXTERNAL,cv2.CHAIN_APPROX_SIMPLE)\n",
        "cnts = imutils.grab_contours(cnts)\n",
        "c = max(cnts, key=cv2.contourArea)\n",
        "\n",
        "# determine the most extreme points along the contour\n",
        "extLeft = tuple(c[c[:, :, 0].argmin()][0])\n",
        "extRight = tuple(c[c[:, :, 0].argmax()][0])\n",
        "extTop = tuple(c[c[:, :, 1].argmin()][0])\n",
        "extBot = tuple(c[c[:, :, 1].argmax()][0])\n",
        "\n",
        "#finding out centroid\n",
        "points = [list(extLeft),list(extRight),list(extTop),list(extBot)]\n",
        "x = [p[0] for p in points]\n",
        "y = [p[1] for p in points]\n",
        "centroid = (sum(x) / len(points), sum(y) / len(points))\n",
        "\n",
        "#radius\n",
        "import numpy as np\n",
        "dist = 0 \n",
        "for i in range(len(x)):\n",
        "  dist_ = np.sqrt((centroid[0]-x[i])**2 + (centroid[1]-y[i])**2)\n",
        "  if dist_>dist:\n",
        "    dist = dist_\n",
        "radius = int(np.floor(dist))\n",
        "\n",
        "center = (int(np.floor(centroid[0])),int(np.floor(centroid[1])))\n",
        "\n",
        "#drawing circular contour\n",
        "demo2 = image.copy()\n",
        "a = cv2.circle(demo2, center, radius, (0, 0, 255), 2)\n",
        "cv2_imshow(demo2)"
      ],
      "execution_count": null,
      "outputs": [
        {
          "output_type": "display_data",
          "data": {
            "image/png": "[encoded data removed]",
            "text/plain": [
              "<PIL.Image.Image image mode=RGB size=256x256 at 0x7F470D3847D0>"
            ]
          },
          "metadata": {
            "tags": []
          }
        }
      ]
    },
    {
      "cell_type": "markdown",
      "metadata": {
        "id": "YrpHPvC1tt8x"
      },
      "source": [
        "# Preparing data for Feature Extraction"
      ]
    },
    {
      "cell_type": "markdown",
      "metadata": {
        "id": "KdU7OSL5uYX8"
      },
      "source": [
        "## preparing the dataset folders(only once)\n",
        "\n",
        "take all the yes and no images into separate folders and extract features from them"
      ]
    },
    {
      "cell_type": "code",
      "metadata": {
        "colab": {
          "base_uri": "https://localhost:8080/"
        },
        "id": "c7vQMk3s6WLZ",
        "outputId": "a29ebe35-c42a-41f2-fd12-cfe552927780"
      },
      "source": [
        "from google.colab import drive\n",
        "drive.mount('/content/drive')"
      ],
      "execution_count": null,
      "outputs": [
        {
          "output_type": "stream",
          "text": [
            "Mounted at /content/drive\n"
          ],
          "name": "stdout"
        }
      ]
    },
    {
      "cell_type": "code",
      "metadata": {
        "colab": {
          "base_uri": "https://localhost:8080/"
        },
        "id": "2wjhCXjet1iC",
        "outputId": "5b9444e1-ade2-4851-84c3-affbb47176ce"
      },
      "source": [
        "#counting files\n",
        "import os,glob,shutil\n",
        "\n",
        "os.chdir('/content/drive/MyDrive/Dataset_2/dataset/no/')\n",
        "count = 0\n",
        "for f in glob.glob(\"*\"):\n",
        "  count += 1\n",
        "\n",
        "print(count)"
      ],
      "execution_count": null,
      "outputs": [
        {
          "output_type": "stream",
          "text": [
            "98\n"
          ],
          "name": "stdout"
        }
      ]
    },
    {
      "cell_type": "code",
      "metadata": {
        "id": "l0TFmofOubIf"
      },
      "source": [
        "#no need to run\n",
        "\n",
        "count = 0\n",
        "dirpath = '/content/drive/MyDrive/Dataset_2/dataset/no/'\n",
        "\n",
        "dim = (256,256)\n",
        "\n",
        "os.chdir(dirpath)\n",
        "filenames = os.listdir(dirpath)\n",
        "\n",
        "dest_dir = '/content/drive/MyDrive/Dataset_2/ML_datasets/all_contour_no/256x256/'\n",
        "\n",
        "for fname in filenames:\n",
        "  img = cv2.imread(fname)\n",
        "  img = cv2.resize(img, dim, interpolation = cv2.INTER_AREA)\n",
        "  dest = dest_dir + fname\n",
        "  cv2.imwrite(dest,img)\n",
        "  print(count)\n",
        "  count += 1"
      ],
      "execution_count": null,
      "outputs": []
    },
    {
      "cell_type": "markdown",
      "metadata": {
        "id": "OKTNB2Tzujpq"
      },
      "source": [
        "## creating csv files with all features\n"
      ]
    },
    {
      "cell_type": "code",
      "metadata": {
        "id": "P8z0Q2XS5f9B"
      },
      "source": [
        "#imports\n",
        "import numpy as np\n",
        "import matplotlib.pyplot as plt\n",
        "import cv2\n",
        "import seaborn as sns\n",
        "from google.colab.patches import cv2_imshow\n",
        "%matplotlib inline\n",
        "\n",
        "from scipy.stats import skew\n",
        "import scipy.stats as stats\n",
        "\n",
        "from scipy.stats import kurtosis\n",
        "\n",
        "import matplotlib.pyplot as plt\n",
        "\n",
        "from skimage.feature import greycomatrix, greycoprops\n",
        "from skimage import data\n",
        "\n",
        "import cv2\n",
        "from google.colab.patches import cv2_imshow"
      ],
      "execution_count": null,
      "outputs": []
    },
    {
      "cell_type": "code",
      "metadata": {
        "id": "vgPFA_tJ0AjC"
      },
      "source": [
        "#load a file using opencv and give it as input in the following functions\n",
        "\n",
        "from scipy.stats import skew\n",
        "import scipy.stats as stats\n",
        "\n",
        "from scipy.stats import kurtosis\n",
        "\n",
        "def stat_features(mean,variance,std,skewness,img):\n",
        "  im = img.flatten()\n",
        "\n",
        "  m = np.mean(im)\n",
        "  v = np.var(im)\n",
        "  st = np.std(im)\n",
        "  sk = np.absolute(skew(im))\n",
        "\n",
        "  mean.append(m)\n",
        "  variance.append(v)\n",
        "  std.append(st)\n",
        "  skewness.append(sk)"
      ],
      "execution_count": null,
      "outputs": []
    },
    {
      "cell_type": "code",
      "metadata": {
        "id": "UPzad7G545ei"
      },
      "source": [
        "#glcm features\n",
        "\n",
        "def glcm_features(dissimilarity,correlation,asm,energy,homogeneity,contrast,gray_img):\n",
        "  glcm = greycomatrix(gray_img, [5], [0], 256, symmetric=True, normed=True)\n",
        "\n",
        "  dis = greycoprops(glcm, 'dissimilarity')[0, 0]\n",
        "  corr = greycoprops(glcm, 'correlation')[0, 0]\n",
        "  a = greycoprops(glcm, 'ASM')[0, 0]\n",
        "  en = greycoprops(glcm, 'energy')[0, 0]\n",
        "  hom = greycoprops(glcm, 'homogeneity')[0, 0]\n",
        "  cont = greycoprops(glcm, 'contrast')[0, 0]\n",
        "\n",
        "  dissimilarity.append(dis)\n",
        "  correlation.append(corr)\n",
        "  asm.append(a)\n",
        "  energy.append(en)\n",
        "  homogeneity.append(hom)\n",
        "  contrast.append(cont)"
      ],
      "execution_count": null,
      "outputs": []
    },
    {
      "cell_type": "code",
      "metadata": {
        "id": "NueO5jYP48ca"
      },
      "source": [
        "def coarseness(image, kmax):\n",
        "\timage = np.array(image)\n",
        "\tw = image.shape[0]\n",
        "\th = image.shape[1]\n",
        "\tkmax = kmax if (np.power(2,kmax) < w) else int(np.log(w) / np.log(2))\n",
        "\tkmax = kmax if (np.power(2,kmax) < h) else int(np.log(h) / np.log(2))\n",
        "\taverage_gray = np.zeros([kmax,w,h])\n",
        "\thorizon = np.zeros([kmax,w,h])\n",
        "\tvertical = np.zeros([kmax,w,h])\n",
        "\tSbest = np.zeros([w,h])\n",
        "\n",
        "\tfor k in range(kmax):\n",
        "\t\twindow = np.power(2,k)\n",
        "\t\tfor wi in range(w)[window:(w-window)]:\n",
        "\t\t\tfor hi in range(h)[window:(h-window)]:\n",
        "\t\t\t\taverage_gray[k][wi][hi] = np.sum(image[wi-window:wi+window, hi-window:hi+window])\n",
        "\t\tfor wi in range(w)[window:(w-window-1)]:\n",
        "\t\t\tfor hi in range(h)[window:(h-window-1)]:\n",
        "\t\t\t\thorizon[k][wi][hi] = average_gray[k][wi+window][hi] - average_gray[k][wi-window][hi]\n",
        "\t\t\t\tvertical[k][wi][hi] = average_gray[k][wi][hi+window] - average_gray[k][wi][hi-window]\n",
        "\t\thorizon[k] = horizon[k] * (1.0 / np.power(2, 2*(k+1)))\n",
        "\t\tvertical[k] = horizon[k] * (1.0 / np.power(2, 2*(k+1)))\n",
        "\n",
        "\tfor wi in range(w):\n",
        "\t\tfor hi in range(h):\n",
        "\t\t\th_max = np.max(horizon[:,wi,hi])\n",
        "\t\t\th_max_index = np.argmax(horizon[:,wi,hi])\n",
        "\t\t\tv_max = np.max(vertical[:,wi,hi])\n",
        "\t\t\tv_max_index = np.argmax(vertical[:,wi,hi])\n",
        "\t\t\tindex = h_max_index if (h_max > v_max) else v_max_index\n",
        "\t\t\tSbest[wi][hi] = np.power(2,index)\n",
        "\n",
        "\tfcrs = np.mean(Sbest)\n",
        "\treturn fcrs"
      ],
      "execution_count": null,
      "outputs": []
    },
    {
      "cell_type": "code",
      "metadata": {
        "id": "vUv-HM5249La"
      },
      "source": [
        "def directionality(image):\n",
        "\timage = np.array(image, dtype = 'int64')\n",
        "\th = image.shape[0]\n",
        "\tw = image.shape[1]\n",
        "\tconvH = np.array([[-1,0,1],[-1,0,1],[-1,0,1]])\n",
        "\tconvV = np.array([[1,1,1],[0,0,0],[-1,-1,-1]])\n",
        "\tdeltaH = np.zeros([h,w])\n",
        "\tdeltaV = np.zeros([h,w])\n",
        "\ttheta = np.zeros([h,w])\n",
        "\n",
        "\t# calc for deltaH\n",
        "\tfor hi in range(h)[1:h-1]:\n",
        "\t\tfor wi in range(w)[1:w-1]:\n",
        "\t\t\tdeltaH[hi][wi] = np.sum(np.multiply(image[hi-1:hi+2, wi-1:wi+2], convH))\n",
        "\tfor wi in range(w)[1:w-1]:\n",
        "\t\tdeltaH[0][wi] = image[0][wi+1] - image[0][wi]\n",
        "\t\tdeltaH[h-1][wi] = image[h-1][wi+1] - image[h-1][wi]\n",
        "\tfor hi in range(h):\n",
        "\t\tdeltaH[hi][0] = image[hi][1] - image[hi][0]\n",
        "\t\tdeltaH[hi][w-1] = image[hi][w-1] - image[hi][w-2]\n",
        "\n",
        "\t# calc for deltaV\n",
        "\tfor hi in range(h)[1:h-1]:\n",
        "\t\tfor wi in range(w)[1:w-1]:\n",
        "\t\t\tdeltaV[hi][wi] = np.sum(np.multiply(image[hi-1:hi+2, wi-1:wi+2], convV))\n",
        "\tfor wi in range(w):\n",
        "\t\tdeltaV[0][wi] = image[1][wi] - image[0][wi]\n",
        "\t\tdeltaV[h-1][wi] = image[h-1][wi] - image[h-2][wi]\n",
        "\tfor hi in range(h)[1:h-1]:\n",
        "\t\tdeltaV[hi][0] = image[hi+1][0] - image[hi][0]\n",
        "\t\tdeltaV[hi][w-1] = image[hi+1][w-1] - image[hi][w-1]\n",
        "\n",
        "\tdeltaG = (np.absolute(deltaH) + np.absolute(deltaV)) / 2.0\n",
        "\tdeltaG_vec = np.reshape(deltaG, (deltaG.shape[0] * deltaG.shape[1]))\n",
        "\n",
        "\t# calc the theta\n",
        "\tfor hi in range(h):\n",
        "\t\tfor wi in range(w):\n",
        "\t\t\tif (deltaH[hi][wi] == 0 and deltaV[hi][wi] == 0):\n",
        "\t\t\t\ttheta[hi][wi] = 0;\n",
        "\t\t\telif(deltaH[hi][wi] == 0):\n",
        "\t\t\t\ttheta[hi][wi] = np.pi\n",
        "\t\t\telse:\n",
        "\t\t\t\ttheta[hi][wi] = np.arctan(deltaV[hi][wi] / deltaH[hi][wi]) + np.pi / 2.0\n",
        "\ttheta_vec = np.reshape(theta, (theta.shape[0] * theta.shape[1]))\n",
        "\n",
        "\tn = 16\n",
        "\tt = 12\n",
        "\tcnt = 0\n",
        "\thd = np.zeros(n)\n",
        "\tdlen = deltaG_vec.shape[0]\n",
        "\tfor ni in range(n):\n",
        "\t\tfor k in range(dlen):\n",
        "\t\t\tif((deltaG_vec[k] >= t) and (theta_vec[k] >= (2*ni-1) * np.pi / (2 * n)) and (theta_vec[k] < (2*ni+1) * np.pi / (2 * n))):\n",
        "\t\t\t\thd[ni] += 1\n",
        "\thd = hd / np.mean(hd)\n",
        "\thd_max_index = np.argmax(hd)\n",
        "\tfdir = 0\n",
        "\tfor ni in range(n):\n",
        "\t\tfdir += np.power((ni - hd_max_index), 2) * hd[ni]\n",
        "\treturn fdir"
      ],
      "execution_count": null,
      "outputs": []
    },
    {
      "cell_type": "code",
      "metadata": {
        "id": "27IjzXLD5DCQ"
      },
      "source": [
        "def roughness(fcrs, fcon):\n",
        "\treturn fcrs + fcon"
      ],
      "execution_count": null,
      "outputs": []
    },
    {
      "cell_type": "code",
      "metadata": {
        "colab": {
          "base_uri": "https://localhost:8080/"
        },
        "id": "mYoQPM__5RHL",
        "outputId": "2c844bbd-e370-4cc0-e5fb-a9fb71b6df06"
      },
      "source": [
        "#creating list for all of the features\n",
        "import os,glob\n",
        "count = 0\n",
        "dirpath = '/content/drive/MyDrive/Dataset_2/ML_datasets/all_contour_yes/224x224/'\n",
        "\n",
        "os.chdir(dirpath)\n",
        "filenames = os.listdir(dirpath)\n",
        "\n",
        "dissimilarity = []\n",
        "correlation = []\n",
        "asm = []\n",
        "energy = []\n",
        "homogeneity = []\n",
        "contrast = []\n",
        "\n",
        "mean = []\n",
        "std = []\n",
        "skewness = []\n",
        "variance = []\n",
        "\n",
        "fcrs = []\n",
        "fr = []\n",
        "fdir = []\n",
        "\n",
        "image_title = []\n",
        "image_label = []\n",
        "\n",
        "\n",
        "for fname in filenames:\n",
        "  image_title.append(fname)\n",
        "  image_label.append(1)\n",
        "\n",
        "  \n",
        "  img = cv2.imread(fname)\n",
        "  gray_img = cv2.cvtColor(img, cv2.COLOR_BGR2GRAY)\n",
        "\n",
        "\n",
        "  stat_features(mean,variance,std,skewness,img)\n",
        "  glcm_features(dissimilarity,correlation,asm,energy,homogeneity,contrast,gray_img)\n",
        "\n",
        "  fcrs.append(coarseness(gray_img, 5))\n",
        "  fr.append(roughness(fcrs[count], contrast[count]))\n",
        "  fdir.append(directionality(gray_img))\n",
        "\n",
        "  print(count)\n",
        "  count += 1"
      ],
      "execution_count": null,
      "outputs": [
        {
          "output_type": "stream",
          "text": [
            "0\n",
            "1\n",
            "2\n",
            "3\n",
            "4\n",
            "5\n",
            "6\n",
            "7\n",
            "8\n",
            "9\n",
            "10\n",
            "11\n",
            "12\n",
            "13\n",
            "14\n",
            "15\n",
            "16\n",
            "17\n",
            "18\n",
            "19\n",
            "20\n",
            "21\n",
            "22\n",
            "23\n",
            "24\n",
            "25\n",
            "26\n",
            "27\n",
            "28\n",
            "29\n",
            "30\n",
            "31\n",
            "32\n",
            "33\n",
            "34\n",
            "35\n",
            "36\n",
            "37\n",
            "38\n",
            "39\n",
            "40\n",
            "41\n",
            "42\n",
            "43\n",
            "44\n",
            "45\n",
            "46\n",
            "47\n",
            "48\n",
            "49\n",
            "50\n",
            "51\n",
            "52\n",
            "53\n",
            "54\n",
            "55\n",
            "56\n",
            "57\n",
            "58\n",
            "59\n",
            "60\n",
            "61\n",
            "62\n",
            "63\n",
            "64\n",
            "65\n",
            "66\n",
            "67\n",
            "68\n",
            "69\n",
            "70\n",
            "71\n",
            "72\n",
            "73\n",
            "74\n",
            "75\n",
            "76\n",
            "77\n",
            "78\n",
            "79\n",
            "80\n",
            "81\n",
            "82\n",
            "83\n",
            "84\n",
            "85\n",
            "86\n",
            "87\n",
            "88\n",
            "89\n",
            "90\n",
            "91\n",
            "92\n",
            "93\n",
            "94\n",
            "95\n",
            "96\n",
            "97\n",
            "98\n",
            "99\n",
            "100\n",
            "101\n",
            "102\n",
            "103\n",
            "104\n",
            "105\n",
            "106\n",
            "107\n",
            "108\n",
            "109\n",
            "110\n",
            "111\n",
            "112\n",
            "113\n",
            "114\n",
            "115\n",
            "116\n",
            "117\n",
            "118\n",
            "119\n",
            "120\n",
            "121\n",
            "122\n",
            "123\n",
            "124\n",
            "125\n",
            "126\n",
            "127\n",
            "128\n",
            "129\n",
            "130\n",
            "131\n",
            "132\n",
            "133\n",
            "134\n",
            "135\n",
            "136\n",
            "137\n",
            "138\n",
            "139\n",
            "140\n",
            "141\n",
            "142\n",
            "143\n",
            "144\n",
            "145\n",
            "146\n",
            "147\n",
            "148\n",
            "149\n",
            "150\n",
            "151\n",
            "152\n",
            "153\n",
            "154\n"
          ],
          "name": "stdout"
        }
      ]
    },
    {
      "cell_type": "code",
      "metadata": {
        "colab": {
          "base_uri": "https://localhost:8080/"
        },
        "id": "_8XjGcNc5syJ",
        "outputId": "71528a89-d344-4589-8da0-226687226972"
      },
      "source": [
        "dirpath = '/content/drive/MyDrive/Dataset_2/ML_datasets/all_contour_no/224x224/'\n",
        "\n",
        "os.chdir(dirpath)\n",
        "filenames = os.listdir(dirpath)\n",
        "\n",
        "for fname in filenames:\n",
        "  image_title.append(fname)\n",
        "  image_label.append(0)\n",
        "\n",
        "\n",
        "  img = cv2.imread(fname)\n",
        "  gray_img = cv2.cvtColor(img, cv2.COLOR_BGR2GRAY)\n",
        "\n",
        "\n",
        "  stat_features(mean,variance,std,skewness,img)\n",
        "  glcm_features(dissimilarity,correlation,asm,energy,homogeneity,contrast,gray_img)\n",
        "\n",
        "  fcrs.append(coarseness(gray_img, 5))\n",
        "  fr.append(roughness(fcrs[count], contrast[count]))\n",
        "  fdir.append(directionality(gray_img))\n",
        "\n",
        "  print(count)\n",
        "  count += 1"
      ],
      "execution_count": null,
      "outputs": [
        {
          "output_type": "stream",
          "text": [
            "155\n",
            "156\n",
            "157\n",
            "158\n",
            "159\n",
            "160\n",
            "161\n",
            "162\n",
            "163\n",
            "164\n",
            "165\n",
            "166\n",
            "167\n",
            "168\n",
            "169\n",
            "170\n",
            "171\n",
            "172\n",
            "173\n",
            "174\n",
            "175\n",
            "176\n",
            "177\n",
            "178\n",
            "179\n",
            "180\n",
            "181\n",
            "182\n",
            "183\n",
            "184\n",
            "185\n",
            "186\n",
            "187\n",
            "188\n",
            "189\n",
            "190\n",
            "191\n",
            "192\n",
            "193\n",
            "194\n",
            "195\n",
            "196\n",
            "197\n",
            "198\n",
            "199\n",
            "200\n",
            "201\n",
            "202\n",
            "203\n",
            "204\n",
            "205\n",
            "206\n",
            "207\n",
            "208\n",
            "209\n",
            "210\n",
            "211\n",
            "212\n",
            "213\n",
            "214\n",
            "215\n",
            "216\n",
            "217\n",
            "218\n",
            "219\n",
            "220\n",
            "221\n",
            "222\n",
            "223\n",
            "224\n",
            "225\n",
            "226\n",
            "227\n",
            "228\n",
            "229\n",
            "230\n",
            "231\n",
            "232\n",
            "233\n",
            "234\n",
            "235\n",
            "236\n",
            "237\n",
            "238\n",
            "239\n",
            "240\n",
            "241\n",
            "242\n",
            "243\n",
            "244\n",
            "245\n",
            "246\n",
            "247\n",
            "248\n",
            "249\n",
            "250\n",
            "251\n",
            "252\n"
          ],
          "name": "stdout"
        }
      ]
    },
    {
      "cell_type": "code",
      "metadata": {
        "colab": {
          "base_uri": "https://localhost:8080/"
        },
        "id": "uqSS5j6d5wqZ",
        "outputId": "08aa2d50-9586-4064-daf6-804fa40a08a7"
      },
      "source": [
        "#for identifying negative values in features\n",
        "#the training won't work for negative values\n",
        "(np.array(skewness) < 0).any()"
      ],
      "execution_count": null,
      "outputs": [
        {
          "output_type": "execute_result",
          "data": {
            "text/plain": [
              "False"
            ]
          },
          "metadata": {
            "tags": []
          },
          "execution_count": 22
        }
      ]
    },
    {
      "cell_type": "code",
      "metadata": {
        "colab": {
          "base_uri": "https://localhost:8080/",
          "height": 513
        },
        "id": "S-YFtF6nAlEL",
        "outputId": "485d5b9d-8011-417e-d958-cae65a03337b"
      },
      "source": [
        "# Import packages\n",
        "import numpy as np\n",
        "import pandas as pd# Update default settings to show 2 decimal place\n",
        "pd.options.display.float_format = '{:.2f}'.format# Create a small dataframe\n",
        "df = pd.DataFrame({'Image': image_title,\n",
        "                   'Class': image_label,\n",
        "                   'Mean': mean,\n",
        "                   'Standard Deviation': std,\n",
        "                   'Variance': variance,\n",
        "                   'Skewness': skewness,\n",
        "                   'Contrast': contrast,\n",
        "                   'Homogeneity': homogeneity,\n",
        "                   'Energy': energy,\n",
        "                   'ASM': asm,\n",
        "                   'Correlation': correlation,\n",
        "                   'Dissimilarity': dissimilarity,\n",
        "                   #'Roughness': fr,\n",
        "                   #'coarseness': fcrs,\n",
        "                   'Directionality':fdir ,\n",
        "                   })\n",
        "df"
      ],
      "execution_count": null,
      "outputs": [
        {
          "output_type": "execute_result",
          "data": {
            "text/html": [
              "<div>\n",
              "<style scoped>\n",
              "    .dataframe tbody tr th:only-of-type {\n",
              "        vertical-align: middle;\n",
              "    }\n",
              "\n",
              "    .dataframe tbody tr th {\n",
              "        vertical-align: top;\n",
              "    }\n",
              "\n",
              "    .dataframe thead th {\n",
              "        text-align: right;\n",
              "    }\n",
              "</style>\n",
              "<table border=\"1\" class=\"dataframe\">\n",
              "  <thead>\n",
              "    <tr style=\"text-align: right;\">\n",
              "      <th></th>\n",
              "      <th>Image</th>\n",
              "      <th>Class</th>\n",
              "      <th>Mean</th>\n",
              "      <th>Standard Deviation</th>\n",
              "      <th>Variance</th>\n",
              "      <th>Skewness</th>\n",
              "      <th>Contrast</th>\n",
              "      <th>Homogeneity</th>\n",
              "      <th>Energy</th>\n",
              "      <th>ASM</th>\n",
              "      <th>Correlation</th>\n",
              "      <th>Dissimilarity</th>\n",
              "      <th>Directionality</th>\n",
              "    </tr>\n",
              "  </thead>\n",
              "  <tbody>\n",
              "    <tr>\n",
              "      <th>0</th>\n",
              "      <td>Y62.png</td>\n",
              "      <td>1</td>\n",
              "      <td>37.97</td>\n",
              "      <td>41.86</td>\n",
              "      <td>1752.62</td>\n",
              "      <td>1.33</td>\n",
              "      <td>1181.18</td>\n",
              "      <td>0.29</td>\n",
              "      <td>0.10</td>\n",
              "      <td>0.01</td>\n",
              "      <td>0.63</td>\n",
              "      <td>16.36</td>\n",
              "      <td>287.28</td>\n",
              "    </tr>\n",
              "    <tr>\n",
              "      <th>1</th>\n",
              "      <td>Y64.png</td>\n",
              "      <td>1</td>\n",
              "      <td>63.39</td>\n",
              "      <td>62.66</td>\n",
              "      <td>3926.04</td>\n",
              "      <td>0.58</td>\n",
              "      <td>2007.88</td>\n",
              "      <td>0.33</td>\n",
              "      <td>0.28</td>\n",
              "      <td>0.08</td>\n",
              "      <td>0.73</td>\n",
              "      <td>23.33</td>\n",
              "      <td>331.88</td>\n",
              "    </tr>\n",
              "    <tr>\n",
              "      <th>2</th>\n",
              "      <td>Y68.png</td>\n",
              "      <td>1</td>\n",
              "      <td>44.65</td>\n",
              "      <td>40.41</td>\n",
              "      <td>1632.79</td>\n",
              "      <td>0.87</td>\n",
              "      <td>793.93</td>\n",
              "      <td>0.21</td>\n",
              "      <td>0.07</td>\n",
              "      <td>0.01</td>\n",
              "      <td>0.73</td>\n",
              "      <td>14.46</td>\n",
              "      <td>300.52</td>\n",
              "    </tr>\n",
              "    <tr>\n",
              "      <th>3</th>\n",
              "      <td>Y71.png</td>\n",
              "      <td>1</td>\n",
              "      <td>67.60</td>\n",
              "      <td>55.19</td>\n",
              "      <td>3046.11</td>\n",
              "      <td>0.75</td>\n",
              "      <td>1215.17</td>\n",
              "      <td>0.24</td>\n",
              "      <td>0.11</td>\n",
              "      <td>0.01</td>\n",
              "      <td>0.79</td>\n",
              "      <td>18.68</td>\n",
              "      <td>342.26</td>\n",
              "    </tr>\n",
              "    <tr>\n",
              "      <th>4</th>\n",
              "      <td>Y73.png</td>\n",
              "      <td>1</td>\n",
              "      <td>45.56</td>\n",
              "      <td>56.16</td>\n",
              "      <td>3154.18</td>\n",
              "      <td>1.53</td>\n",
              "      <td>1124.57</td>\n",
              "      <td>0.31</td>\n",
              "      <td>0.24</td>\n",
              "      <td>0.06</td>\n",
              "      <td>0.82</td>\n",
              "      <td>18.12</td>\n",
              "      <td>391.87</td>\n",
              "    </tr>\n",
              "    <tr>\n",
              "      <th>...</th>\n",
              "      <td>...</td>\n",
              "      <td>...</td>\n",
              "      <td>...</td>\n",
              "      <td>...</td>\n",
              "      <td>...</td>\n",
              "      <td>...</td>\n",
              "      <td>...</td>\n",
              "      <td>...</td>\n",
              "      <td>...</td>\n",
              "      <td>...</td>\n",
              "      <td>...</td>\n",
              "      <td>...</td>\n",
              "      <td>...</td>\n",
              "    </tr>\n",
              "    <tr>\n",
              "      <th>248</th>\n",
              "      <td>21 no.jpg</td>\n",
              "      <td>0</td>\n",
              "      <td>48.05</td>\n",
              "      <td>56.53</td>\n",
              "      <td>3195.70</td>\n",
              "      <td>1.42</td>\n",
              "      <td>1428.90</td>\n",
              "      <td>0.38</td>\n",
              "      <td>0.21</td>\n",
              "      <td>0.04</td>\n",
              "      <td>0.78</td>\n",
              "      <td>19.57</td>\n",
              "      <td>300.72</td>\n",
              "    </tr>\n",
              "    <tr>\n",
              "      <th>249</th>\n",
              "      <td>no 1.jpg</td>\n",
              "      <td>0</td>\n",
              "      <td>29.74</td>\n",
              "      <td>35.44</td>\n",
              "      <td>1256.32</td>\n",
              "      <td>1.17</td>\n",
              "      <td>943.45</td>\n",
              "      <td>0.37</td>\n",
              "      <td>0.20</td>\n",
              "      <td>0.04</td>\n",
              "      <td>0.63</td>\n",
              "      <td>14.93</td>\n",
              "      <td>307.34</td>\n",
              "    </tr>\n",
              "    <tr>\n",
              "      <th>250</th>\n",
              "      <td>46 no.jpg</td>\n",
              "      <td>0</td>\n",
              "      <td>56.21</td>\n",
              "      <td>66.73</td>\n",
              "      <td>4453.45</td>\n",
              "      <td>0.68</td>\n",
              "      <td>1355.42</td>\n",
              "      <td>0.48</td>\n",
              "      <td>0.44</td>\n",
              "      <td>0.19</td>\n",
              "      <td>0.85</td>\n",
              "      <td>18.06</td>\n",
              "      <td>1155.65</td>\n",
              "    </tr>\n",
              "    <tr>\n",
              "      <th>251</th>\n",
              "      <td>no 89.jpg</td>\n",
              "      <td>0</td>\n",
              "      <td>36.87</td>\n",
              "      <td>37.80</td>\n",
              "      <td>1429.12</td>\n",
              "      <td>0.54</td>\n",
              "      <td>474.82</td>\n",
              "      <td>0.31</td>\n",
              "      <td>0.13</td>\n",
              "      <td>0.02</td>\n",
              "      <td>0.83</td>\n",
              "      <td>10.48</td>\n",
              "      <td>285.73</td>\n",
              "    </tr>\n",
              "    <tr>\n",
              "      <th>252</th>\n",
              "      <td>N3.jpg</td>\n",
              "      <td>0</td>\n",
              "      <td>43.54</td>\n",
              "      <td>41.59</td>\n",
              "      <td>1729.49</td>\n",
              "      <td>1.47</td>\n",
              "      <td>1469.73</td>\n",
              "      <td>0.23</td>\n",
              "      <td>0.08</td>\n",
              "      <td>0.01</td>\n",
              "      <td>0.58</td>\n",
              "      <td>21.14</td>\n",
              "      <td>1054.32</td>\n",
              "    </tr>\n",
              "  </tbody>\n",
              "</table>\n",
              "<p>253 rows × 13 columns</p>\n",
              "</div>"
            ],
            "text/plain": [
              "         Image  Class  Mean  ...  Correlation  Dissimilarity  Directionality\n",
              "0      Y62.png      1 37.97  ...         0.63          16.36          287.28\n",
              "1      Y64.png      1 63.39  ...         0.73          23.33          331.88\n",
              "2      Y68.png      1 44.65  ...         0.73          14.46          300.52\n",
              "3      Y71.png      1 67.60  ...         0.79          18.68          342.26\n",
              "4      Y73.png      1 45.56  ...         0.82          18.12          391.87\n",
              "..         ...    ...   ...  ...          ...            ...             ...\n",
              "248  21 no.jpg      0 48.05  ...         0.78          19.57          300.72\n",
              "249   no 1.jpg      0 29.74  ...         0.63          14.93          307.34\n",
              "250  46 no.jpg      0 56.21  ...         0.85          18.06         1155.65\n",
              "251  no 89.jpg      0 36.87  ...         0.83          10.48          285.73\n",
              "252     N3.jpg      0 43.54  ...         0.58          21.14         1054.32\n",
              "\n",
              "[253 rows x 13 columns]"
            ]
          },
          "metadata": {
            "tags": []
          },
          "execution_count": 23
        }
      ]
    },
    {
      "cell_type": "code",
      "metadata": {
        "colab": {
          "base_uri": "https://localhost:8080/",
          "height": 223
        },
        "id": "W9fSSqnIAqx5",
        "outputId": "7e330690-bfaf-4360-9f2e-fbf5ceb12474"
      },
      "source": [
        "df.head()"
      ],
      "execution_count": null,
      "outputs": [
        {
          "output_type": "execute_result",
          "data": {
            "text/html": [
              "<div>\n",
              "<style scoped>\n",
              "    .dataframe tbody tr th:only-of-type {\n",
              "        vertical-align: middle;\n",
              "    }\n",
              "\n",
              "    .dataframe tbody tr th {\n",
              "        vertical-align: top;\n",
              "    }\n",
              "\n",
              "    .dataframe thead th {\n",
              "        text-align: right;\n",
              "    }\n",
              "</style>\n",
              "<table border=\"1\" class=\"dataframe\">\n",
              "  <thead>\n",
              "    <tr style=\"text-align: right;\">\n",
              "      <th></th>\n",
              "      <th>Image</th>\n",
              "      <th>Class</th>\n",
              "      <th>Mean</th>\n",
              "      <th>Standard Deviation</th>\n",
              "      <th>Variance</th>\n",
              "      <th>Skewness</th>\n",
              "      <th>Contrast</th>\n",
              "      <th>Homogeneity</th>\n",
              "      <th>Energy</th>\n",
              "      <th>ASM</th>\n",
              "      <th>Correlation</th>\n",
              "      <th>Dissimilarity</th>\n",
              "      <th>Directionality</th>\n",
              "    </tr>\n",
              "  </thead>\n",
              "  <tbody>\n",
              "    <tr>\n",
              "      <th>0</th>\n",
              "      <td>Y62.png</td>\n",
              "      <td>1</td>\n",
              "      <td>37.97</td>\n",
              "      <td>41.86</td>\n",
              "      <td>1752.62</td>\n",
              "      <td>1.33</td>\n",
              "      <td>1181.18</td>\n",
              "      <td>0.29</td>\n",
              "      <td>0.10</td>\n",
              "      <td>0.01</td>\n",
              "      <td>0.63</td>\n",
              "      <td>16.36</td>\n",
              "      <td>287.28</td>\n",
              "    </tr>\n",
              "    <tr>\n",
              "      <th>1</th>\n",
              "      <td>Y64.png</td>\n",
              "      <td>1</td>\n",
              "      <td>63.39</td>\n",
              "      <td>62.66</td>\n",
              "      <td>3926.04</td>\n",
              "      <td>0.58</td>\n",
              "      <td>2007.88</td>\n",
              "      <td>0.33</td>\n",
              "      <td>0.28</td>\n",
              "      <td>0.08</td>\n",
              "      <td>0.73</td>\n",
              "      <td>23.33</td>\n",
              "      <td>331.88</td>\n",
              "    </tr>\n",
              "    <tr>\n",
              "      <th>2</th>\n",
              "      <td>Y68.png</td>\n",
              "      <td>1</td>\n",
              "      <td>44.65</td>\n",
              "      <td>40.41</td>\n",
              "      <td>1632.79</td>\n",
              "      <td>0.87</td>\n",
              "      <td>793.93</td>\n",
              "      <td>0.21</td>\n",
              "      <td>0.07</td>\n",
              "      <td>0.01</td>\n",
              "      <td>0.73</td>\n",
              "      <td>14.46</td>\n",
              "      <td>300.52</td>\n",
              "    </tr>\n",
              "    <tr>\n",
              "      <th>3</th>\n",
              "      <td>Y71.png</td>\n",
              "      <td>1</td>\n",
              "      <td>67.60</td>\n",
              "      <td>55.19</td>\n",
              "      <td>3046.11</td>\n",
              "      <td>0.75</td>\n",
              "      <td>1215.17</td>\n",
              "      <td>0.24</td>\n",
              "      <td>0.11</td>\n",
              "      <td>0.01</td>\n",
              "      <td>0.79</td>\n",
              "      <td>18.68</td>\n",
              "      <td>342.26</td>\n",
              "    </tr>\n",
              "    <tr>\n",
              "      <th>4</th>\n",
              "      <td>Y73.png</td>\n",
              "      <td>1</td>\n",
              "      <td>45.56</td>\n",
              "      <td>56.16</td>\n",
              "      <td>3154.18</td>\n",
              "      <td>1.53</td>\n",
              "      <td>1124.57</td>\n",
              "      <td>0.31</td>\n",
              "      <td>0.24</td>\n",
              "      <td>0.06</td>\n",
              "      <td>0.82</td>\n",
              "      <td>18.12</td>\n",
              "      <td>391.87</td>\n",
              "    </tr>\n",
              "  </tbody>\n",
              "</table>\n",
              "</div>"
            ],
            "text/plain": [
              "     Image  Class  Mean  ...  Correlation  Dissimilarity  Directionality\n",
              "0  Y62.png      1 37.97  ...         0.63          16.36          287.28\n",
              "1  Y64.png      1 63.39  ...         0.73          23.33          331.88\n",
              "2  Y68.png      1 44.65  ...         0.73          14.46          300.52\n",
              "3  Y71.png      1 67.60  ...         0.79          18.68          342.26\n",
              "4  Y73.png      1 45.56  ...         0.82          18.12          391.87\n",
              "\n",
              "[5 rows x 13 columns]"
            ]
          },
          "metadata": {
            "tags": []
          },
          "execution_count": 24
        }
      ]
    },
    {
      "cell_type": "code",
      "metadata": {
        "colab": {
          "base_uri": "https://localhost:8080/"
        },
        "id": "8aVQuvZ5Arsw",
        "outputId": "4494dcf5-cb0d-4911-e592-c98575035b00"
      },
      "source": [
        "df.columns"
      ],
      "execution_count": null,
      "outputs": [
        {
          "output_type": "execute_result",
          "data": {
            "text/plain": [
              "Index(['Image', 'Class', 'Mean', 'Standard Deviation', 'Variance', 'Skewness',\n",
              "       'Contrast', 'Homogeneity', 'Energy', 'ASM', 'Correlation',\n",
              "       'Dissimilarity', 'Directionality'],\n",
              "      dtype='object')"
            ]
          },
          "metadata": {
            "tags": []
          },
          "execution_count": 25
        }
      ]
    },
    {
      "cell_type": "code",
      "metadata": {
        "id": "oh9VuQHLAw_P"
      },
      "source": [
        "# saving the dataframe\n",
        "df.to_csv('/content/drive/MyDrive/Dataset_2/ML_datasets/feature_224x224.csv')"
      ],
      "execution_count": null,
      "outputs": []
    }
  ]
}